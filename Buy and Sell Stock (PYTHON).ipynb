{
 "cells": [
  {
   "cell_type": "markdown",
   "metadata": {},
   "source": [
    "Problem:\n",
    " Given an array of numbers consisting of daily stock prices, calculate the maximum amount of profit that can be made from buying on one day and selling on another day."
   ]
  },
  {
   "cell_type": "code",
   "execution_count": 2,
   "metadata": {},
   "outputs": [
    {
     "name": "stdout",
     "output_type": "stream",
     "text": [
      "30\n"
     ]
    }
   ],
   "source": [
    "#Brute Force\n",
    "#Time Complexity O(n^2)\n",
    "#Space Complexity O(1)\n",
    "def buy_sell_1(A):\n",
    "    max_profit = 0\n",
    "    for i in range(len(A)-1):\n",
    "        for j in range(i+1,len(A)):\n",
    "            max_profit = max(max_profit, A[j]-A[i])\n",
    "    return max_profit\n",
    "print(buy_sell_1([310,315,275,295,260,270,290,230,255,250]))"
   ]
  },
  {
   "cell_type": "code",
   "execution_count": 17,
   "metadata": {},
   "outputs": [
    {
     "name": "stdout",
     "output_type": "stream",
     "text": [
      "30\n"
     ]
    }
   ],
   "source": [
    "#Time Complexity O(n)\n",
    "#Space Complexity O(1)\n",
    "def buy_sell_2(A):\n",
    "    minV = A[0]\n",
    "    max_profit =0\n",
    "    for i in A:\n",
    "        minV = min(i,minV)\n",
    "        max_profit = max(max_profit,i-minV)\n",
    "    return(max_profit)\n",
    "\n",
    "print(buy_sell_2([310,315,275,295,260,270,290,230,255,250]))"
   ]
  },
  {
   "cell_type": "code",
   "execution_count": null,
   "metadata": {},
   "outputs": [],
   "source": []
  }
 ],
 "metadata": {
  "kernelspec": {
   "display_name": "Python 3",
   "language": "python",
   "name": "python3"
  },
  "language_info": {
   "codemirror_mode": {
    "name": "ipython",
    "version": 3
   },
   "file_extension": ".py",
   "mimetype": "text/x-python",
   "name": "python",
   "nbconvert_exporter": "python",
   "pygments_lexer": "ipython3",
   "version": "3.7.4"
  }
 },
 "nbformat": 4,
 "nbformat_minor": 2
}
